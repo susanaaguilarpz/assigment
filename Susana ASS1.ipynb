{
 "cells": [
  {
   "cell_type": "code",
   "execution_count": 7,
   "id": "a82c4b0d-93d2-49db-baf0-9344425c42e3",
   "metadata": {},
   "outputs": [],
   "source": [
    "#071221 Susana"
   ]
  },
  {
   "cell_type": "code",
   "execution_count": 8,
   "id": "93a819bf-30e7-4218-a495-8948743328ad",
   "metadata": {},
   "outputs": [],
   "source": [
    "#PART 1"
   ]
  },
  {
   "cell_type": "code",
   "execution_count": 15,
   "id": "5cf5ba44-72af-4fe2-a21c-74e2eacbd8e6",
   "metadata": {},
   "outputs": [],
   "source": [
    "def Saludar():\n",
    "    print(\"Hello World\")\n"
   ]
  },
  {
   "cell_type": "code",
   "execution_count": 16,
   "id": "ead205ab-3907-4e85-8b01-73eb5f43ae96",
   "metadata": {},
   "outputs": [
    {
     "name": "stdout",
     "output_type": "stream",
     "text": [
      "Hello World\n"
     ]
    }
   ],
   "source": [
    "Saludar()"
   ]
  },
  {
   "cell_type": "code",
   "execution_count": 17,
   "id": "377fc4a7-1328-4c66-a293-932587a50774",
   "metadata": {},
   "outputs": [],
   "source": [
    "#PART 2"
   ]
  },
  {
   "cell_type": "code",
   "execution_count": 39,
   "id": "2c9e27c4-f509-4f41-9090-dcba08e6c309",
   "metadata": {},
   "outputs": [],
   "source": [
    "def decode (secuencia):\n",
    "    s = str.split (secuencia, '-')\n",
    "    color_dict = {'black': '0',\n",
    "              'brown': '1', \n",
    "              'red': '2',\n",
    "              'orange': '3', \n",
    "              'yellow': '4',\n",
    "              'green' : '5', \n",
    "              'blue' : '6',\n",
    "              'violet' : '7', \n",
    "              'grey' : '8',\n",
    "              'white': '9'}\n",
    "    valor = ''\n",
    "    i=0\n",
    "    for color in s:\n",
    "        valor += color_dict[color]\n",
    "        i+=1\n",
    "        if (i==2):\n",
    "            print(valor)\n"
   ]
  },
  {
   "cell_type": "code",
   "execution_count": 40,
   "id": "3d9ea9a7-12a5-487a-beea-08e888fa2c57",
   "metadata": {},
   "outputs": [
    {
     "name": "stdout",
     "output_type": "stream",
     "text": [
      "15\n"
     ]
    }
   ],
   "source": [
    "decode ('brown-green-violet')"
   ]
  },
  {
   "cell_type": "code",
   "execution_count": 2,
   "id": "120e2762-2577-44ef-ab1a-fc5a2463d124",
   "metadata": {},
   "outputs": [],
   "source": [
    "#PART #3 leap year ejercicio"
   ]
  },
  {
   "cell_type": "code",
   "execution_count": 3,
   "id": "8c588088-81a2-4b1b-bf5c-f2a2d881beab",
   "metadata": {},
   "outputs": [
    {
     "name": "stdout",
     "output_type": "stream",
     "text": [
      "Leap Year\n"
     ]
    }
   ],
   "source": [
    "def leapyear(year):\n",
    "    if (year % 4) == 0:\n",
    "        if (year % 100) == 0:\n",
    "            if (year % 400) == 0:\n",
    "                return True\n",
    "            else:\n",
    "                return False\n",
    "        else:\n",
    "             return True\n",
    "    else:\n",
    "        return False\n",
    " \n"
   ]
  },
  {
   "cell_type": "code",
   "execution_count": 6,
   "id": "03121212-830e-4ce6-89da-80623239bdb9",
   "metadata": {},
   "outputs": [
    {
     "name": "stdout",
     "output_type": "stream",
     "text": [
      "Not a Leap Year\n"
     ]
    }
   ],
   "source": [
    "# Probar años\n",
    "year = 1901\n",
    "if(leapyear(year)):\n",
    "    print(\"Leap Year\")\n",
    "else:\n",
    "    print(\"Not a Leap Year\")\n",
    "     "
   ]
  },
  {
   "cell_type": "code",
   "execution_count": 23,
   "id": "132406c9-338c-4042-bd75-8808f059c1d2",
   "metadata": {},
   "outputs": [],
   "source": [
    "#PARTE 4"
   ]
  },
  {
   "cell_type": "code",
   "execution_count": 79,
   "id": "f4e2e8ca-6992-44a8-b24f-4c7a51b53b03",
   "metadata": {},
   "outputs": [],
   "source": [
    "def age (planet, time):\n",
    "   \n",
    "    Planet_dict = {'mercury': 0.2408467,\n",
    "                  'venus': 0.61519726, \n",
    "                  'earth': 1,\n",
    "                  'mars': 1.8808158, \n",
    "                  'jupiter': 11.862615,\n",
    "                  'saturn' : 29.447498, \n",
    "                  'uranus' : 84.016846,\n",
    "                  'neptune' : 164.79132\n",
    "                 }\n",
    "\n",
    "    year = 31557600\n",
    "    \n",
    "    for x in Planet_dict.items():      \n",
    "         if (x[0] ==planet):\n",
    "            #print( \" %.2f Earth-years old\", time/x[1] )\n",
    "            print(\"{0:.2f}\".format( ( ( time/ x[1])/ year)), \"Earth-years old\" )\n",
    "\n",
    "           "
   ]
  },
  {
   "cell_type": "code",
   "execution_count": 80,
   "id": "fabd4efa-2b6d-4514-b1ec-920aec672ec6",
   "metadata": {},
   "outputs": [
    {
     "name": "stdout",
     "output_type": "stream",
     "text": [
      "0.46 Earth-years old\n"
     ]
    }
   ],
   "source": [
    "(age('uranus', 1210123456))"
   ]
  },
  {
   "cell_type": "code",
   "execution_count": null,
   "id": "19520507-c473-47b1-a13c-15a9364f4d60",
   "metadata": {},
   "outputs": [],
   "source": []
  },
  {
   "cell_type": "code",
   "execution_count": null,
   "id": "099ebc3a-1749-4b0f-a9e0-6bcf3d56137a",
   "metadata": {},
   "outputs": [],
   "source": []
  }
 ],
 "metadata": {
  "kernelspec": {
   "display_name": "Python 3 (ipykernel)",
   "language": "python",
   "name": "python3"
  },
  "language_info": {
   "codemirror_mode": {
    "name": "ipython",
    "version": 3
   },
   "file_extension": ".py",
   "mimetype": "text/x-python",
   "name": "python",
   "nbconvert_exporter": "python",
   "pygments_lexer": "ipython3",
   "version": "3.9.7"
  }
 },
 "nbformat": 4,
 "nbformat_minor": 5
}
